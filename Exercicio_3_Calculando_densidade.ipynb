{
  "nbformat": 4,
  "nbformat_minor": 0,
  "metadata": {
    "colab": {
      "name": "Exercicio 3 - Calculando densidade.ipynb",
      "provenance": [],
      "authorship_tag": "ABX9TyP+q7titdcUc4FBYSOq6hiK",
      "include_colab_link": true
    },
    "kernelspec": {
      "name": "python3",
      "display_name": "Python 3"
    },
    "language_info": {
      "name": "python"
    }
  },
  "cells": [
    {
      "cell_type": "markdown",
      "metadata": {
        "id": "view-in-github",
        "colab_type": "text"
      },
      "source": [
        "<a href=\"https://colab.research.google.com/github/meyrele/Master-Jornalismo-de-Dados/blob/main/Exercicio_3_Calculando_densidade.ipynb\" target=\"_parent\"><img src=\"https://colab.research.google.com/assets/colab-badge.svg\" alt=\"Open In Colab\"/></a>"
      ]
    },
    {
      "cell_type": "markdown",
      "metadata": {
        "id": "g4_dcfeVYLM5"
      },
      "source": [
        "- Baixe o arquivo **brasil.csv** disponibilizado em [https://bit.ly/insper-pc-aula3](https://bit.ly/insper-pc-aula3) ou em anexo\n",
        "- Programa:\n",
        "    - Crie um programa para percorrer todos os registros (linhas, com exceção do cabeçalho) do arquivo e mostrar na tela o seguinte padrão:\n",
        "        - **O município X/Y possui uma densidade demográfica de Z hab/km²**\n",
        "    - Onde:\n",
        "        - **X**: nome do município (segunda coluna)\n",
        "        - **Y**: sigla da unidade federativa (primeira coluna)\n",
        "        - **Z**: densidade demográfica (calculada a partir das colunas 3 e 4: **habitantes / área**)\n",
        "    - Opcional: crie uma versão modificada do programa que mostra **apenas os municípios com mais de 1.000 hab/km²**\n",
        "\n",
        "\n",
        "\n"
      ]
    },
    {
      "cell_type": "code",
      "metadata": {
        "id": "Z4fHGBbwurBK",
        "colab": {
          "base_uri": "https://localhost:8080/"
        },
        "outputId": "94d3d868-b79e-4c18-9ce2-90e6074d5ac0"
      },
      "source": [
        "import csv\n",
        "arquivo = open(\"brasil.csv\")\n",
        "leitor = csv.DictReader(arquivo) #csv.DictReader desconsidera a primeira linha, que é o cabeçalho das colunas\n",
        "for registro in leitor:\n",
        "  densidade = int(registro[\"habitantes\"]) / float(registro[\"area\"])\n",
        "  if densidade > 1000:\n",
        "    print(f\"O município {registro['municipio']}/{registro['estado']} possui uma densidade demográfica de {densidade:.2f} habitantes/km2\") # o \":.2f\" depois da variável densidadelimita a quantidade de casas decimais\n",
        "    #Obs.: dentro de f string temos que usar aspas simples nas variáveis"
      ],
      "execution_count": null,
      "outputs": [
        {
          "output_type": "stream",
          "name": "stdout",
          "text": [
            "O município Maceió/AL possui uma densidade demográfica de 1854.11 habitantes/km2\n",
            "O município Lauro de Freitas/BA possui uma densidade demográfica de 2833.23 habitantes/km2\n",
            "O município Salvador/BA possui uma densidade demográfica de 3859.42 habitantes/km2\n",
            "O município Fortaleza/CE possui uma densidade demográfica de 7786.44 habitantes/km2\n",
            "O município Juazeiro do Norte/CE possui uma densidade demográfica de 1004.46 habitantes/km2\n",
            "O município Maracanaú/CE possui uma densidade demográfica de 1960.22 habitantes/km2\n",
            "O município Cariacica/ES possui uma densidade demográfica de 1246.12 habitantes/km2\n",
            "O município Vila Velha/ES possui uma densidade demográfica de 1973.56 habitantes/km2\n",
            "O município Vitória/ES possui uma densidade demográfica de 3338.44 habitantes/km2\n",
            "O município Aparecida de Goiânia/GO possui uma densidade demográfica de 1580.28 habitantes/km2\n",
            "O município Goiânia/GO possui uma densidade demográfica de 1776.75 habitantes/km2\n",
            "O município Valparaíso de Goiás/GO possui uma densidade demográfica de 2165.48 habitantes/km2\n",
            "O município São Luís/MA possui uma densidade demográfica de 1215.68 habitantes/km2\n",
            "O município Belo Horizonte/MG possui uma densidade demográfica de 7167.02 habitantes/km2\n",
            "O município Betim/MG possui uma densidade demográfica de 1102.78 habitantes/km2\n",
            "O município Contagem/MG possui uma densidade demográfica de 3090.30 habitantes/km2\n",
            "O município Ibirité/MG possui uma densidade demográfica de 2190.35 habitantes/km2\n",
            "O município Ipatinga/MG possui uma densidade demográfica de 1452.38 habitantes/km2\n",
            "O município Ribeirão das Neves/MG possui uma densidade demográfica de 1905.09 habitantes/km2\n",
            "O município Santa Cruz de Minas/MG possui uma densidade demográfica de 2203.08 habitantes/km2\n",
            "O município Vespasiano/MG possui uma densidade demográfica de 1467.66 habitantes/km2\n",
            "O município Ananindeua/PA possui uma densidade demográfica de 2477.59 habitantes/km2\n",
            "O município Belém/PA possui uma densidade demográfica de 1315.26 habitantes/km2\n",
            "O município Marituba/PA possui uma densidade demográfica de 1047.47 habitantes/km2\n",
            "O município Bayeux/PB possui uma densidade demográfica de 3119.05 habitantes/km2\n",
            "O município Cabedelo/PB possui uma densidade demográfica de 1815.29 habitantes/km2\n",
            "O município João Pessoa/PB possui uma densidade demográfica de 3421.20 habitantes/km2\n",
            "O município Colombo/PR possui uma densidade demográfica de 1076.73 habitantes/km2\n",
            "O município Curitiba/PR possui uma densidade demográfica de 4027.00 habitantes/km2\n",
            "O município Pinhais/PR possui uma densidade demográfica de 1922.26 habitantes/km2\n",
            "O município Camaragibe/PE possui uma densidade demográfica de 2818.30 habitantes/km2\n",
            "O município Jaboatão dos Guararapes/PE possui uma densidade demográfica de 2491.86 habitantes/km2\n",
            "O município Olinda/PE possui uma densidade demográfica de 9063.80 habitantes/km2\n",
            "O município Paulista/PE possui uma densidade demográfica de 3087.72 habitantes/km2\n",
            "O município Recife/PE possui uma densidade demográfica de 7039.48 habitantes/km2\n",
            "O município Toritama/PE possui uma densidade demográfica de 1383.42 habitantes/km2\n",
            "O município Belford Roxo/RJ possui uma densidade demográfica de 6030.99 habitantes/km2\n",
            "O município Duque de Caxias/RJ possui uma densidade demográfica de 1828.51 habitantes/km2\n",
            "O município Japeri/RJ possui uma densidade demográfica de 1166.39 habitantes/km2\n",
            "O município Mesquita/RJ possui uma densidade demográfica de 4310.70 habitantes/km2\n",
            "O município Nilópolis/RJ possui uma densidade demográfica de 8118.88 habitantes/km2\n",
            "O município Niterói/RJ possui uma densidade demográfica de 3640.70 habitantes/km2\n",
            "O município Nova Iguaçu/RJ possui uma densidade demográfica de 1527.59 habitantes/km2\n",
            "O município Queimados/RJ possui uma densidade demográfica de 1822.48 habitantes/km2\n",
            "O município Rio de Janeiro/RJ possui uma densidade demográfica de 5265.81 habitantes/km2\n",
            "O município São Gonçalo/RJ possui uma densidade demográfica de 4035.88 habitantes/km2\n",
            "O município São João de Meriti/RJ possui uma densidade demográfica de 13023.08 habitantes/km2\n",
            "O município Volta Redonda/RJ possui uma densidade demográfica de 1412.77 habitantes/km2\n",
            "O município Natal/RN possui uma densidade demográfica de 4805.33 habitantes/km2\n",
            "O município Parnamirim/RN possui uma densidade demográfica de 1639.72 habitantes/km2\n",
            "O município Alvorada/RS possui uma densidade demográfica de 2743.98 habitantes/km2\n",
            "O município Cachoeirinha/RS possui uma densidade demográfica de 2686.92 habitantes/km2\n",
            "O município Canoas/RS possui uma densidade demográfica de 2470.08 habitantes/km2\n",
            "O município Esteio/RS possui uma densidade demográfica de 2917.45 habitantes/km2\n",
            "O município Novo Hamburgo/RS possui uma densidade demográfica de 1067.55 habitantes/km2\n",
            "O município Porto Alegre/RS possui uma densidade demográfica de 2837.54 habitantes/km2\n",
            "O município São Leopoldo/RS possui uma densidade demográfica de 2083.77 habitantes/km2\n",
            "O município Sapucaia do Sul/RS possui uma densidade demográfica de 2245.88 habitantes/km2\n",
            "O município Balneário Camboriú/SC possui uma densidade demográfica de 2337.56 habitantes/km2\n",
            "O município São José/SC possui uma densidade demográfica de 1376.76 habitantes/km2\n",
            "O município Americana/SP possui uma densidade demográfica de 1572.75 habitantes/km2\n",
            "O município Barueri/SP possui uma densidade demográfica de 3664.93 habitantes/km2\n",
            "O município Campinas/SP possui uma densidade demográfica de 1359.61 habitantes/km2\n",
            "O município Carapicuíba/SP possui uma densidade demográfica de 10697.08 habitantes/km2\n",
            "O município Diadema/SP possui uma densidade demográfica de 12535.36 habitantes/km2\n",
            "O município Embu das Artes/SP possui uma densidade demográfica de 3412.84 habitantes/km2\n",
            "O município Ferraz de Vasconcelos/SP possui uma densidade demográfica de 5691.78 habitantes/km2\n",
            "O município Francisco Morato/SP possui uma densidade demográfica de 3147.99 habitantes/km2\n",
            "O município Guarujá/SP possui uma densidade demográfica de 2026.85 habitantes/km2\n",
            "O município Guarulhos/SP possui uma densidade demográfica de 3834.50 habitantes/km2\n",
            "O município Hortolândia/SP possui uma densidade demográfica de 3093.96 habitantes/km2\n",
            "O município Itapecerica da Serra/SP possui uma densidade demográfica de 1011.56 habitantes/km2\n",
            "O município Itapevi/SP possui uma densidade demográfica de 2428.85 habitantes/km2\n",
            "O município Itaquaquecetuba/SP possui uma densidade demográfica de 3895.05 habitantes/km2\n",
            "O município Jandira/SP possui uma densidade demográfica de 6208.83 habitantes/km2\n",
            "O município Mauá/SP possui uma densidade demográfica de 6740.97 habitantes/km2\n",
            "O município Osasco/SP possui uma densidade demográfica de 10265.43 habitantes/km2\n",
            "O município Poá/SP possui uma densidade demográfica de 6142.12 habitantes/km2\n",
            "O município Praia Grande/SP possui uma densidade demográfica de 1781.81 habitantes/km2\n",
            "O município Ribeirão Pires/SP possui uma densidade demográfica de 1140.72 habitantes/km2\n",
            "O município Rio Grande da Serra/SP possui uma densidade demográfica de 1210.07 habitantes/km2\n",
            "O município Santo André/SP possui uma densidade demográfica de 3848.03 habitantes/km2\n",
            "O município Santos/SP possui uma densidade demográfica de 1494.28 habitantes/km2\n",
            "O município São Bernardo do Campo/SP possui uma densidade demográfica de 1869.35 habitantes/km2\n",
            "O município São Caetano do Sul/SP possui uma densidade demográfica de 9736.66 habitantes/km2\n",
            "O município São Paulo/SP possui uma densidade demográfica de 7398.27 habitantes/km2\n",
            "O município São Vicente/SP possui uma densidade demográfica de 2247.92 habitantes/km2\n",
            "O município Sorocaba/SP possui uma densidade demográfica de 1304.19 habitantes/km2\n",
            "O município Sumaré/SP possui uma densidade demográfica de 1572.06 habitantes/km2\n",
            "O município Suzano/SP possui uma densidade demográfica de 1272.94 habitantes/km2\n",
            "O município Taboão da Serra/SP possui uma densidade demográfica de 11992.55 habitantes/km2\n",
            "O município Vargem Grande Paulista/SP possui uma densidade demográfica de 1012.17 habitantes/km2\n",
            "O município Várzea Paulista/SP possui uma densidade demográfica de 3049.23 habitantes/km2\n",
            "O município Aracaju/SE possui uma densidade demográfica de 3140.60 habitantes/km2\n",
            "O município Nossa Senhora do Socorro/SE possui uma densidade demográfica de 1025.88 habitantes/km2\n"
          ]
        }
      ]
    }
  ]
}