{
  "nbformat": 4,
  "nbformat_minor": 0,
  "metadata": {
    "colab": {
      "name": "Aula 2.ipynb",
      "provenance": [],
      "authorship_tag": "ABX9TyP5JNM4DWarrll4dw0uihbE",
      "include_colab_link": true
    },
    "kernelspec": {
      "name": "python3",
      "display_name": "Python 3"
    },
    "language_info": {
      "name": "python"
    }
  },
  "cells": [
    {
      "cell_type": "markdown",
      "metadata": {
        "id": "view-in-github",
        "colab_type": "text"
      },
      "source": [
        "<a href=\"https://colab.research.google.com/github/meyrele/Master-Jornalismo-de-Dados/blob/main/Aula_2.ipynb\" target=\"_parent\"><img src=\"https://colab.research.google.com/assets/colab-badge.svg\" alt=\"Open In Colab\"/></a>"
      ]
    },
    {
      "cell_type": "code",
      "metadata": {
        "id": "ti79XJmDHDI6",
        "colab": {
          "base_uri": "https://localhost:8080/"
        },
        "outputId": "74918a57-c5e6-4709-b240-4a6500e86649"
      },
      "source": [
        "print(\"Censo 2021, estilo faça-você mesmo:\")\n",
        "nome = input(\"Qual seu nome? \")\n",
        "ano_nascimento = input('Em que ano você nasceu? ')"
      ],
      "execution_count": 1,
      "outputs": [
        {
          "name": "stdout",
          "output_type": "stream",
          "text": [
            "Censo 2021, estilo faça-você mesmo:\n",
            "Qual seu nome? Meyrele\n",
            "Em que ano você nasceu? 1976\n"
          ]
        }
      ]
    },
    {
      "cell_type": "code",
      "metadata": {
        "colab": {
          "base_uri": "https://localhost:8080/"
        },
        "id": "fx-k1Vw5nfK0",
        "outputId": "c7f2dc47-3aef-4bf3-ac87-f7e271e8b550"
      },
      "source": [
        "print('Sua idade deve ser: ')\n",
        "print(2021 - int(ano_nascimento))"
      ],
      "execution_count": 3,
      "outputs": [
        {
          "output_type": "stream",
          "name": "stdout",
          "text": [
            "Sua idade deve ser: \n",
            "45\n"
          ]
        }
      ]
    },
    {
      "cell_type": "code",
      "metadata": {
        "colab": {
          "base_uri": "https://localhost:8080/"
        },
        "id": "uFDlG0VnovqP",
        "outputId": "6605ce7b-ff17-4a00-bfc4-040b244e9438"
      },
      "source": [
        "print('Censo 2021')\n",
        "nome = input('Qual o seu nome: ')\n",
        "ano_nascimento = input('Em que ano você nasceu? ')\n",
        "ano_numerico = float(ano_nascimento)\n",
        "possivel_idade = 2021 - ano_numerico\n",
        "print('Você deve ter ' + str(possivel_idade) + ' anos.')"
      ],
      "execution_count": 6,
      "outputs": [
        {
          "output_type": "stream",
          "name": "stdout",
          "text": [
            "Censo 2021\n",
            "Qual o seu nome: Meyrele\n",
            "Em que ano você nasceu? 1976\n",
            "Você deve ter 45.0 anos.\n"
          ]
        }
      ]
    },
    {
      "cell_type": "code",
      "metadata": {
        "colab": {
          "base_uri": "https://localhost:8080/"
        },
        "id": "TpRK7tKEqSOr",
        "outputId": "4e7b1d4e-8a1e-4091-9876-798b21f8d706"
      },
      "source": [
        "print(f'Você deve ter {possivel_idade} anos.')"
      ],
      "execution_count": 7,
      "outputs": [
        {
          "output_type": "stream",
          "name": "stdout",
          "text": [
            "Você deve ter 45.0 anos.\n"
          ]
        }
      ]
    },
    {
      "cell_type": "markdown",
      "metadata": {
        "id": "nsNkggeh8SiX"
      },
      "source": [
        "**Exercício calcula média**"
      ]
    },
    {
      "cell_type": "code",
      "metadata": {
        "colab": {
          "base_uri": "https://localhost:8080/"
        },
        "id": "S8x645WX8RRI",
        "outputId": "25d53425-161e-42cd-fd64-f6548260bb75"
      },
      "source": [
        "num1 = input('Digite o primeiro número: ')\n",
        "num2 = input('Digite o segundo número: ')\n",
        "media = (float(num1) + float(num2))/2\n",
        "print(f'A média dos números é: {media}.')"
      ],
      "execution_count": 8,
      "outputs": [
        {
          "output_type": "stream",
          "name": "stdout",
          "text": [
            "Digite o primeiro número: 10\n",
            "Digite o segundo número: 5\n",
            "A média dos números é: 7.5.\n"
          ]
        }
      ]
    },
    {
      "cell_type": "markdown",
      "metadata": {
        "id": "zY6r0_ym-K1J"
      },
      "source": [
        "Outra forma:"
      ]
    },
    {
      "cell_type": "code",
      "metadata": {
        "colab": {
          "base_uri": "https://localhost:8080/"
        },
        "id": "YN-mjMD0-Jfy",
        "outputId": "756eb6ff-e36b-4c0c-d72c-ef6a6c64f316"
      },
      "source": [
        "num1 = float(input('Digite o primeiro número: '))\n",
        "num2 = float(input('Digite o segundo número: '))\n",
        "media = ((num1) + (num2))/2\n",
        "print(f'A média dos números é: {media}.')"
      ],
      "execution_count": 14,
      "outputs": [
        {
          "output_type": "stream",
          "name": "stdout",
          "text": [
            "Digite o primeiro número: 9\n",
            "Digite o segundo número: 7\n",
            "A média dos números é: 8.0.\n"
          ]
        }
      ]
    },
    {
      "cell_type": "markdown",
      "metadata": {
        "id": "fI5uvqlx_9Gj"
      },
      "source": [
        "**Estrutura Condicional**"
      ]
    },
    {
      "cell_type": "code",
      "metadata": {
        "colab": {
          "base_uri": "https://localhost:8080/"
        },
        "id": "Rrc-7Tp8_7Xa",
        "outputId": "eb63aa74-3124-4600-8f03-cc4877a0281a"
      },
      "source": [
        "if media >= 6:\n",
        "  print('Você passou!')\n",
        "else:\n",
        "  print('Não foi dessa vez!')\n",
        "  print('Estude mais da próxima vez.')"
      ],
      "execution_count": 15,
      "outputs": [
        {
          "output_type": "stream",
          "name": "stdout",
          "text": [
            "Você passou!\n"
          ]
        }
      ]
    },
    {
      "cell_type": "markdown",
      "metadata": {
        "id": "pTPDu2egmirV"
      },
      "source": [
        ""
      ]
    }
  ]
}