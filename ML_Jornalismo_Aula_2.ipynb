{
  "nbformat": 4,
  "nbformat_minor": 0,
  "metadata": {
    "colab": {
      "name": "ML_Jornalismo_Aula_2.ipynb",
      "provenance": [],
      "collapsed_sections": [],
      "include_colab_link": true
    },
    "kernelspec": {
      "name": "python3",
      "display_name": "Python 3"
    },
    "language_info": {
      "name": "python"
    }
  },
  "cells": [
    {
      "cell_type": "markdown",
      "metadata": {
        "id": "view-in-github",
        "colab_type": "text"
      },
      "source": [
        "<a href=\"https://colab.research.google.com/github/meyrele/Master-Jornalismo-de-Dados/blob/main/ML_Jornalismo_Aula_2.ipynb\" target=\"_parent\"><img src=\"https://colab.research.google.com/assets/colab-badge.svg\" alt=\"Open In Colab\"/></a>"
      ]
    },
    {
      "cell_type": "markdown",
      "metadata": {
        "id": "nu-BJjpkZ5j-"
      },
      "source": [
        "Machine Learning para Jornalistas - Aula 2\n",
        "Esta atividade envolve a criação de um modelo preditivo para eleição de veriadores na cidade de São Paulo a partir de dados disponibilizados pelo TSE."
      ]
    },
    {
      "cell_type": "code",
      "metadata": {
        "id": "-_vLan4Hjswx"
      },
      "source": [
        "import pandas as pd\n",
        "import numpy as np"
      ],
      "execution_count": null,
      "outputs": []
    },
    {
      "cell_type": "markdown",
      "metadata": {
        "id": "1-XCrtmMk-6W"
      },
      "source": [
        "Importando Dados - bases de dados podem ser encontradas em https://www.tse.jus.br/eleicoes/estatisticas/repositorio-de-dados-eleitorais-1\n"
      ]
    },
    {
      "cell_type": "markdown",
      "metadata": {
        "id": "PznXZxJbVvTd"
      },
      "source": [
        "O TSE disponibiliza diversas bases de dados. Para nosso exemplo vamos usar as bases de candidatos, de bens de candidatos e de resultados da eleição."
      ]
    },
    {
      "cell_type": "code",
      "metadata": {
        "id": "xEuaj3J8lBZq"
      },
      "source": [
        "base_cand = pd.read_csv('consulta_cand_2020_SP.csv',sep=';', encoding='latin1', decimal=\",\")\n",
        "base_bens = pd.read_csv('bem_candidato_2020_SP.csv',sep=';', encoding='latin1', decimal=\",\")\n",
        "base_result = pd.read_csv('votacao_candidato_munzona_2020_SP.csv',sep=';', encoding='latin1', decimal=\",\")"
      ],
      "execution_count": null,
      "outputs": []
    },
    {
      "cell_type": "code",
      "metadata": {
        "colab": {
          "base_uri": "https://localhost:8080/"
        },
        "id": "RVw9lYsXae6U",
        "outputId": "18a93a5f-0a68-4c11-e20e-0312c49411ff"
      },
      "source": [
        "list(base_cand.columns)"
      ],
      "execution_count": null,
      "outputs": [
        {
          "output_type": "execute_result",
          "data": {
            "text/plain": [
              "['DT_GERACAO',\n",
              " 'HH_GERACAO',\n",
              " 'ANO_ELEICAO',\n",
              " 'CD_TIPO_ELEICAO',\n",
              " 'NM_TIPO_ELEICAO',\n",
              " 'NR_TURNO',\n",
              " 'CD_ELEICAO',\n",
              " 'DS_ELEICAO',\n",
              " 'DT_ELEICAO',\n",
              " 'TP_ABRANGENCIA',\n",
              " 'SG_UF',\n",
              " 'SG_UE',\n",
              " 'NM_UE',\n",
              " 'CD_CARGO',\n",
              " 'DS_CARGO',\n",
              " 'SQ_CANDIDATO',\n",
              " 'NR_CANDIDATO',\n",
              " 'NM_CANDIDATO',\n",
              " 'NM_URNA_CANDIDATO',\n",
              " 'NM_SOCIAL_CANDIDATO',\n",
              " 'NR_CPF_CANDIDATO',\n",
              " 'NM_EMAIL',\n",
              " 'CD_SITUACAO_CANDIDATURA',\n",
              " 'DS_SITUACAO_CANDIDATURA',\n",
              " 'CD_DETALHE_SITUACAO_CAND',\n",
              " 'DS_DETALHE_SITUACAO_CAND',\n",
              " 'TP_AGREMIACAO',\n",
              " 'NR_PARTIDO',\n",
              " 'SG_PARTIDO',\n",
              " 'NM_PARTIDO',\n",
              " 'SQ_COLIGACAO',\n",
              " 'NM_COLIGACAO',\n",
              " 'DS_COMPOSICAO_COLIGACAO',\n",
              " 'CD_NACIONALIDADE',\n",
              " 'DS_NACIONALIDADE',\n",
              " 'SG_UF_NASCIMENTO',\n",
              " 'CD_MUNICIPIO_NASCIMENTO',\n",
              " 'NM_MUNICIPIO_NASCIMENTO',\n",
              " 'DT_NASCIMENTO',\n",
              " 'NR_IDADE_DATA_POSSE',\n",
              " 'NR_TITULO_ELEITORAL_CANDIDATO',\n",
              " 'CD_GENERO',\n",
              " 'DS_GENERO',\n",
              " 'CD_GRAU_INSTRUCAO',\n",
              " 'DS_GRAU_INSTRUCAO',\n",
              " 'CD_ESTADO_CIVIL',\n",
              " 'DS_ESTADO_CIVIL',\n",
              " 'CD_COR_RACA',\n",
              " 'DS_COR_RACA',\n",
              " 'CD_OCUPACAO',\n",
              " 'DS_OCUPACAO',\n",
              " 'VR_DESPESA_MAX_CAMPANHA',\n",
              " 'CD_SIT_TOT_TURNO',\n",
              " 'DS_SIT_TOT_TURNO',\n",
              " 'ST_REELEICAO',\n",
              " 'ST_DECLARAR_BENS',\n",
              " 'NR_PROTOCOLO_CANDIDATURA',\n",
              " 'NR_PROCESSO',\n",
              " 'CD_SITUACAO_CANDIDATO_PLEITO',\n",
              " 'DS_SITUACAO_CANDIDATO_PLEITO',\n",
              " 'CD_SITUACAO_CANDIDATO_URNA',\n",
              " 'DS_SITUACAO_CANDIDATO_URNA',\n",
              " 'ST_CANDIDATO_INSERIDO_URNA']"
            ]
          },
          "metadata": {},
          "execution_count": 39
        }
      ]
    },
    {
      "cell_type": "code",
      "metadata": {
        "id": "Cb19-pjWoers",
        "colab": {
          "base_uri": "https://localhost:8080/",
          "height": 753
        },
        "outputId": "1b3ef53b-e532-4b59-c7a9-5e9f19c3fa5a"
      },
      "source": [
        "base_cand.head(10)"
      ],
      "execution_count": null,
      "outputs": [
        {
          "output_type": "execute_result",
          "data": {
            "text/html": [
              "<div>\n",
              "<style scoped>\n",
              "    .dataframe tbody tr th:only-of-type {\n",
              "        vertical-align: middle;\n",
              "    }\n",
              "\n",
              "    .dataframe tbody tr th {\n",
              "        vertical-align: top;\n",
              "    }\n",
              "\n",
              "    .dataframe thead th {\n",
              "        text-align: right;\n",
              "    }\n",
              "</style>\n",
              "<table border=\"1\" class=\"dataframe\">\n",
              "  <thead>\n",
              "    <tr style=\"text-align: right;\">\n",
              "      <th></th>\n",
              "      <th>DT_GERACAO</th>\n",
              "      <th>HH_GERACAO</th>\n",
              "      <th>ANO_ELEICAO</th>\n",
              "      <th>CD_TIPO_ELEICAO</th>\n",
              "      <th>NM_TIPO_ELEICAO</th>\n",
              "      <th>NR_TURNO</th>\n",
              "      <th>CD_ELEICAO</th>\n",
              "      <th>DS_ELEICAO</th>\n",
              "      <th>DT_ELEICAO</th>\n",
              "      <th>TP_ABRANGENCIA</th>\n",
              "      <th>SG_UF</th>\n",
              "      <th>SG_UE</th>\n",
              "      <th>NM_UE</th>\n",
              "      <th>CD_CARGO</th>\n",
              "      <th>DS_CARGO</th>\n",
              "      <th>SQ_CANDIDATO</th>\n",
              "      <th>NR_CANDIDATO</th>\n",
              "      <th>NM_CANDIDATO</th>\n",
              "      <th>NM_URNA_CANDIDATO</th>\n",
              "      <th>NM_SOCIAL_CANDIDATO</th>\n",
              "      <th>NR_CPF_CANDIDATO</th>\n",
              "      <th>NM_EMAIL</th>\n",
              "      <th>CD_SITUACAO_CANDIDATURA</th>\n",
              "      <th>DS_SITUACAO_CANDIDATURA</th>\n",
              "      <th>CD_DETALHE_SITUACAO_CAND</th>\n",
              "      <th>DS_DETALHE_SITUACAO_CAND</th>\n",
              "      <th>TP_AGREMIACAO</th>\n",
              "      <th>NR_PARTIDO</th>\n",
              "      <th>SG_PARTIDO</th>\n",
              "      <th>NM_PARTIDO</th>\n",
              "      <th>SQ_COLIGACAO</th>\n",
              "      <th>NM_COLIGACAO</th>\n",
              "      <th>DS_COMPOSICAO_COLIGACAO</th>\n",
              "      <th>CD_NACIONALIDADE</th>\n",
              "      <th>DS_NACIONALIDADE</th>\n",
              "      <th>SG_UF_NASCIMENTO</th>\n",
              "      <th>CD_MUNICIPIO_NASCIMENTO</th>\n",
              "      <th>NM_MUNICIPIO_NASCIMENTO</th>\n",
              "      <th>DT_NASCIMENTO</th>\n",
              "      <th>NR_IDADE_DATA_POSSE</th>\n",
              "      <th>NR_TITULO_ELEITORAL_CANDIDATO</th>\n",
              "      <th>CD_GENERO</th>\n",
              "      <th>DS_GENERO</th>\n",
              "      <th>CD_GRAU_INSTRUCAO</th>\n",
              "      <th>DS_GRAU_INSTRUCAO</th>\n",
              "      <th>CD_ESTADO_CIVIL</th>\n",
              "      <th>DS_ESTADO_CIVIL</th>\n",
              "      <th>CD_COR_RACA</th>\n",
              "      <th>DS_COR_RACA</th>\n",
              "      <th>CD_OCUPACAO</th>\n",
              "      <th>DS_OCUPACAO</th>\n",
              "      <th>VR_DESPESA_MAX_CAMPANHA</th>\n",
              "      <th>CD_SIT_TOT_TURNO</th>\n",
              "      <th>DS_SIT_TOT_TURNO</th>\n",
              "      <th>ST_REELEICAO</th>\n",
              "      <th>ST_DECLARAR_BENS</th>\n",
              "      <th>NR_PROTOCOLO_CANDIDATURA</th>\n",
              "      <th>NR_PROCESSO</th>\n",
              "      <th>CD_SITUACAO_CANDIDATO_PLEITO</th>\n",
              "      <th>DS_SITUACAO_CANDIDATO_PLEITO</th>\n",
              "      <th>CD_SITUACAO_CANDIDATO_URNA</th>\n",
              "      <th>DS_SITUACAO_CANDIDATO_URNA</th>\n",
              "      <th>ST_CANDIDATO_INSERIDO_URNA</th>\n",
              "    </tr>\n",
              "  </thead>\n",
              "  <tbody>\n",
              "    <tr>\n",
              "      <th>0</th>\n",
              "      <td>06/10/2021</td>\n",
              "      <td>12:21:13</td>\n",
              "      <td>2020</td>\n",
              "      <td>2</td>\n",
              "      <td>ELEIÇÃO ORDINÁRIA</td>\n",
              "      <td>1</td>\n",
              "      <td>426</td>\n",
              "      <td>Eleições Municipais 2020</td>\n",
              "      <td>15/11/2020</td>\n",
              "      <td>MUNICIPAL</td>\n",
              "      <td>SP</td>\n",
              "      <td>72451</td>\n",
              "      <td>VOTUPORANGA</td>\n",
              "      <td>13</td>\n",
              "      <td>VEREADOR</td>\n",
              "      <td>250001164273</td>\n",
              "      <td>55520</td>\n",
              "      <td>ISAIAS GASPARETTO</td>\n",
              "      <td>ISAIAS GASPARETTO BIRA DA PIPO</td>\n",
              "      <td>#NULO#</td>\n",
              "      <td>1602968896</td>\n",
              "      <td>CERTIDOESRAFAEL@GMAIL.COM</td>\n",
              "      <td>12</td>\n",
              "      <td>APTO</td>\n",
              "      <td>2</td>\n",
              "      <td>DEFERIDO</td>\n",
              "      <td>PARTIDO ISOLADO</td>\n",
              "      <td>55</td>\n",
              "      <td>PSD</td>\n",
              "      <td>PARTIDO SOCIAL DEMOCRÁTICO</td>\n",
              "      <td>250000143252</td>\n",
              "      <td>PARTIDO ISOLADO</td>\n",
              "      <td>PSD</td>\n",
              "      <td>1</td>\n",
              "      <td>BRASILEIRA NATA</td>\n",
              "      <td>SP</td>\n",
              "      <td>-3</td>\n",
              "      <td>VOTUPORANGA</td>\n",
              "      <td>18/08/1959</td>\n",
              "      <td>61</td>\n",
              "      <td>421532980108</td>\n",
              "      <td>2</td>\n",
              "      <td>MASCULINO</td>\n",
              "      <td>3</td>\n",
              "      <td>ENSINO FUNDAMENTAL INCOMPLETO</td>\n",
              "      <td>9</td>\n",
              "      <td>DIVORCIADO(A)</td>\n",
              "      <td>1</td>\n",
              "      <td>BRANCA</td>\n",
              "      <td>411</td>\n",
              "      <td>VENDEDOR DE COMÉRCIO VAREJISTA E ATACADISTA</td>\n",
              "      <td>48347.44</td>\n",
              "      <td>5</td>\n",
              "      <td>SUPLENTE</td>\n",
              "      <td>N</td>\n",
              "      <td>N</td>\n",
              "      <td>-1</td>\n",
              "      <td>6005558220206260147</td>\n",
              "      <td>2</td>\n",
              "      <td>DEFERIDO</td>\n",
              "      <td>4</td>\n",
              "      <td>INDEFERIDO COM RECURSO</td>\n",
              "      <td>SIM</td>\n",
              "    </tr>\n",
              "    <tr>\n",
              "      <th>1</th>\n",
              "      <td>06/10/2021</td>\n",
              "      <td>12:21:13</td>\n",
              "      <td>2020</td>\n",
              "      <td>2</td>\n",
              "      <td>ELEIÇÃO ORDINÁRIA</td>\n",
              "      <td>1</td>\n",
              "      <td>426</td>\n",
              "      <td>Eleições Municipais 2020</td>\n",
              "      <td>15/11/2020</td>\n",
              "      <td>MUNICIPAL</td>\n",
              "      <td>SP</td>\n",
              "      <td>64750</td>\n",
              "      <td>GUARUJÁ</td>\n",
              "      <td>13</td>\n",
              "      <td>VEREADOR</td>\n",
              "      <td>250001253137</td>\n",
              "      <td>77150</td>\n",
              "      <td>ALINE LEAL PEREIRA SILVA</td>\n",
              "      <td>ALINE LEAL</td>\n",
              "      <td>#NULO#</td>\n",
              "      <td>35366778867</td>\n",
              "      <td>ALINE.LEAL.PEREIRA27@GMAIL.COM</td>\n",
              "      <td>12</td>\n",
              "      <td>APTO</td>\n",
              "      <td>2</td>\n",
              "      <td>DEFERIDO</td>\n",
              "      <td>PARTIDO ISOLADO</td>\n",
              "      <td>77</td>\n",
              "      <td>SOLIDARIEDADE</td>\n",
              "      <td>SOLIDARIEDADE</td>\n",
              "      <td>250000157659</td>\n",
              "      <td>PARTIDO ISOLADO</td>\n",
              "      <td>SOLIDARIEDADE</td>\n",
              "      <td>1</td>\n",
              "      <td>BRASILEIRA NATA</td>\n",
              "      <td>SP</td>\n",
              "      <td>-3</td>\n",
              "      <td>SANTOS</td>\n",
              "      <td>15/01/1986</td>\n",
              "      <td>34</td>\n",
              "      <td>317608160191</td>\n",
              "      <td>4</td>\n",
              "      <td>FEMININO</td>\n",
              "      <td>6</td>\n",
              "      <td>ENSINO MÉDIO COMPLETO</td>\n",
              "      <td>3</td>\n",
              "      <td>CASADO(A)</td>\n",
              "      <td>3</td>\n",
              "      <td>PARDA</td>\n",
              "      <td>581</td>\n",
              "      <td>DONA DE CASA</td>\n",
              "      <td>216278.29</td>\n",
              "      <td>4</td>\n",
              "      <td>NÃO ELEITO</td>\n",
              "      <td>N</td>\n",
              "      <td>S</td>\n",
              "      <td>-1</td>\n",
              "      <td>6003392320206260212</td>\n",
              "      <td>2</td>\n",
              "      <td>DEFERIDO</td>\n",
              "      <td>2</td>\n",
              "      <td>DEFERIDO</td>\n",
              "      <td>SIM</td>\n",
              "    </tr>\n",
              "    <tr>\n",
              "      <th>2</th>\n",
              "      <td>06/10/2021</td>\n",
              "      <td>12:21:13</td>\n",
              "      <td>2020</td>\n",
              "      <td>2</td>\n",
              "      <td>ELEIÇÃO ORDINÁRIA</td>\n",
              "      <td>1</td>\n",
              "      <td>426</td>\n",
              "      <td>Eleições Municipais 2020</td>\n",
              "      <td>15/11/2020</td>\n",
              "      <td>MUNICIPAL</td>\n",
              "      <td>SP</td>\n",
              "      <td>70050</td>\n",
              "      <td>SALTO</td>\n",
              "      <td>13</td>\n",
              "      <td>VEREADOR</td>\n",
              "      <td>250000638790</td>\n",
              "      <td>43999</td>\n",
              "      <td>VANDERLEI RIBEIRO</td>\n",
              "      <td>VANDÃO</td>\n",
              "      <td>#NULO#</td>\n",
              "      <td>29455551829</td>\n",
              "      <td>VANDERLEIRIBEIRO1981@UOL.COM.BR</td>\n",
              "      <td>12</td>\n",
              "      <td>APTO</td>\n",
              "      <td>2</td>\n",
              "      <td>DEFERIDO</td>\n",
              "      <td>PARTIDO ISOLADO</td>\n",
              "      <td>43</td>\n",
              "      <td>PV</td>\n",
              "      <td>PARTIDO VERDE</td>\n",
              "      <td>250000055794</td>\n",
              "      <td>PARTIDO ISOLADO</td>\n",
              "      <td>PV</td>\n",
              "      <td>1</td>\n",
              "      <td>BRASILEIRA NATA</td>\n",
              "      <td>SP</td>\n",
              "      <td>-3</td>\n",
              "      <td>SALTO</td>\n",
              "      <td>07/05/1981</td>\n",
              "      <td>39</td>\n",
              "      <td>208618280175</td>\n",
              "      <td>2</td>\n",
              "      <td>MASCULINO</td>\n",
              "      <td>8</td>\n",
              "      <td>SUPERIOR COMPLETO</td>\n",
              "      <td>1</td>\n",
              "      <td>SOLTEIRO(A)</td>\n",
              "      <td>2</td>\n",
              "      <td>PRETA</td>\n",
              "      <td>125</td>\n",
              "      <td>ADMINISTRADOR</td>\n",
              "      <td>61298.06</td>\n",
              "      <td>4</td>\n",
              "      <td>NÃO ELEITO</td>\n",
              "      <td>N</td>\n",
              "      <td>S</td>\n",
              "      <td>-1</td>\n",
              "      <td>6001008920206260221</td>\n",
              "      <td>2</td>\n",
              "      <td>DEFERIDO</td>\n",
              "      <td>2</td>\n",
              "      <td>DEFERIDO</td>\n",
              "      <td>SIM</td>\n",
              "    </tr>\n",
              "    <tr>\n",
              "      <th>3</th>\n",
              "      <td>06/10/2021</td>\n",
              "      <td>12:21:13</td>\n",
              "      <td>2020</td>\n",
              "      <td>2</td>\n",
              "      <td>ELEIÇÃO ORDINÁRIA</td>\n",
              "      <td>1</td>\n",
              "      <td>426</td>\n",
              "      <td>Eleições Municipais 2020</td>\n",
              "      <td>15/11/2020</td>\n",
              "      <td>MUNICIPAL</td>\n",
              "      <td>SP</td>\n",
              "      <td>70777</td>\n",
              "      <td>SÃO CAETANO DO SUL</td>\n",
              "      <td>13</td>\n",
              "      <td>VEREADOR</td>\n",
              "      <td>250001098093</td>\n",
              "      <td>14888</td>\n",
              "      <td>RAFAEL HENRIQUE CORNIATTI</td>\n",
              "      <td>PIXOXÓ</td>\n",
              "      <td>#NULO#</td>\n",
              "      <td>35248369843</td>\n",
              "      <td>RAFAELHC_PIXOXO@HOTMAIL.COM</td>\n",
              "      <td>12</td>\n",
              "      <td>APTO</td>\n",
              "      <td>2</td>\n",
              "      <td>DEFERIDO</td>\n",
              "      <td>PARTIDO ISOLADO</td>\n",
              "      <td>14</td>\n",
              "      <td>PTB</td>\n",
              "      <td>PARTIDO TRABALHISTA BRASILEIRO</td>\n",
              "      <td>250000133016</td>\n",
              "      <td>PARTIDO ISOLADO</td>\n",
              "      <td>PTB</td>\n",
              "      <td>1</td>\n",
              "      <td>BRASILEIRA NATA</td>\n",
              "      <td>SP</td>\n",
              "      <td>-3</td>\n",
              "      <td>SÃO CAETANO DO SUL</td>\n",
              "      <td>10/04/1987</td>\n",
              "      <td>33</td>\n",
              "      <td>335861790124</td>\n",
              "      <td>2</td>\n",
              "      <td>MASCULINO</td>\n",
              "      <td>6</td>\n",
              "      <td>ENSINO MÉDIO COMPLETO</td>\n",
              "      <td>1</td>\n",
              "      <td>SOLTEIRO(A)</td>\n",
              "      <td>3</td>\n",
              "      <td>PARDA</td>\n",
              "      <td>221</td>\n",
              "      <td>MOTOBOY</td>\n",
              "      <td>290256.78</td>\n",
              "      <td>5</td>\n",
              "      <td>SUPLENTE</td>\n",
              "      <td>N</td>\n",
              "      <td>N</td>\n",
              "      <td>-1</td>\n",
              "      <td>6002937520206260166</td>\n",
              "      <td>2</td>\n",
              "      <td>DEFERIDO</td>\n",
              "      <td>2</td>\n",
              "      <td>DEFERIDO</td>\n",
              "      <td>SIM</td>\n",
              "    </tr>\n",
              "    <tr>\n",
              "      <th>4</th>\n",
              "      <td>06/10/2021</td>\n",
              "      <td>12:21:13</td>\n",
              "      <td>2020</td>\n",
              "      <td>2</td>\n",
              "      <td>ELEIÇÃO ORDINÁRIA</td>\n",
              "      <td>1</td>\n",
              "      <td>426</td>\n",
              "      <td>Eleições Municipais 2020</td>\n",
              "      <td>15/11/2020</td>\n",
              "      <td>MUNICIPAL</td>\n",
              "      <td>SP</td>\n",
              "      <td>64297</td>\n",
              "      <td>FRANCO DA ROCHA</td>\n",
              "      <td>13</td>\n",
              "      <td>VEREADOR</td>\n",
              "      <td>250000799924</td>\n",
              "      <td>35222</td>\n",
              "      <td>FABIO DOS SANTOS</td>\n",
              "      <td>FABIO DASHER</td>\n",
              "      <td>#NULO#</td>\n",
              "      <td>28648258804</td>\n",
              "      <td>ELEICOESFRANCO@ATOCONTABIL.COM</td>\n",
              "      <td>12</td>\n",
              "      <td>APTO</td>\n",
              "      <td>2</td>\n",
              "      <td>DEFERIDO</td>\n",
              "      <td>PARTIDO ISOLADO</td>\n",
              "      <td>35</td>\n",
              "      <td>PMB</td>\n",
              "      <td>PARTIDO DA MULHER BRASILEIRA</td>\n",
              "      <td>250000078644</td>\n",
              "      <td>PARTIDO ISOLADO</td>\n",
              "      <td>PMB</td>\n",
              "      <td>1</td>\n",
              "      <td>BRASILEIRA NATA</td>\n",
              "      <td>SP</td>\n",
              "      <td>-3</td>\n",
              "      <td>FRANCO DA ROCHA</td>\n",
              "      <td>22/08/1980</td>\n",
              "      <td>40</td>\n",
              "      <td>273850380159</td>\n",
              "      <td>2</td>\n",
              "      <td>MASCULINO</td>\n",
              "      <td>8</td>\n",
              "      <td>SUPERIOR COMPLETO</td>\n",
              "      <td>1</td>\n",
              "      <td>SOLTEIRO(A)</td>\n",
              "      <td>1</td>\n",
              "      <td>BRANCA</td>\n",
              "      <td>265</td>\n",
              "      <td>PROFESSOR DE ENSINO FUNDAMENTAL</td>\n",
              "      <td>135089.59</td>\n",
              "      <td>4</td>\n",
              "      <td>NÃO ELEITO</td>\n",
              "      <td>N</td>\n",
              "      <td>S</td>\n",
              "      <td>-1</td>\n",
              "      <td>6001691420206260192</td>\n",
              "      <td>2</td>\n",
              "      <td>DEFERIDO</td>\n",
              "      <td>2</td>\n",
              "      <td>DEFERIDO</td>\n",
              "      <td>SIM</td>\n",
              "    </tr>\n",
              "    <tr>\n",
              "      <th>5</th>\n",
              "      <td>06/10/2021</td>\n",
              "      <td>12:21:13</td>\n",
              "      <td>2020</td>\n",
              "      <td>2</td>\n",
              "      <td>ELEIÇÃO ORDINÁRIA</td>\n",
              "      <td>1</td>\n",
              "      <td>426</td>\n",
              "      <td>Eleições Municipais 2020</td>\n",
              "      <td>15/11/2020</td>\n",
              "      <td>MUNICIPAL</td>\n",
              "      <td>SP</td>\n",
              "      <td>66818</td>\n",
              "      <td>MARÍLIA</td>\n",
              "      <td>13</td>\n",
              "      <td>VEREADOR</td>\n",
              "      <td>250001112792</td>\n",
              "      <td>19123</td>\n",
              "      <td>LUIZ EDUARDO NARDI</td>\n",
              "      <td>ENGENHEIRO NARDI</td>\n",
              "      <td>#NULO#</td>\n",
              "      <td>70671079891</td>\n",
              "      <td>LE.NARDI@UOL.COM.BR</td>\n",
              "      <td>12</td>\n",
              "      <td>APTO</td>\n",
              "      <td>2</td>\n",
              "      <td>DEFERIDO</td>\n",
              "      <td>PARTIDO ISOLADO</td>\n",
              "      <td>19</td>\n",
              "      <td>PODE</td>\n",
              "      <td>PODEMOS</td>\n",
              "      <td>250000134917</td>\n",
              "      <td>PARTIDO ISOLADO</td>\n",
              "      <td>PODE</td>\n",
              "      <td>1</td>\n",
              "      <td>BRASILEIRA NATA</td>\n",
              "      <td>SP</td>\n",
              "      <td>-3</td>\n",
              "      <td>MARÍLIA</td>\n",
              "      <td>06/08/1948</td>\n",
              "      <td>72</td>\n",
              "      <td>29785350191</td>\n",
              "      <td>2</td>\n",
              "      <td>MASCULINO</td>\n",
              "      <td>8</td>\n",
              "      <td>SUPERIOR COMPLETO</td>\n",
              "      <td>3</td>\n",
              "      <td>CASADO(A)</td>\n",
              "      <td>1</td>\n",
              "      <td>BRANCA</td>\n",
              "      <td>101</td>\n",
              "      <td>ENGENHEIRO</td>\n",
              "      <td>212581.89</td>\n",
              "      <td>3</td>\n",
              "      <td>ELEITO POR MÉDIA</td>\n",
              "      <td>S</td>\n",
              "      <td>S</td>\n",
              "      <td>-1</td>\n",
              "      <td>6002633720206260070</td>\n",
              "      <td>2</td>\n",
              "      <td>DEFERIDO</td>\n",
              "      <td>2</td>\n",
              "      <td>DEFERIDO</td>\n",
              "      <td>SIM</td>\n",
              "    </tr>\n",
              "    <tr>\n",
              "      <th>6</th>\n",
              "      <td>06/10/2021</td>\n",
              "      <td>12:21:13</td>\n",
              "      <td>2020</td>\n",
              "      <td>2</td>\n",
              "      <td>ELEIÇÃO ORDINÁRIA</td>\n",
              "      <td>1</td>\n",
              "      <td>426</td>\n",
              "      <td>Eleições Municipais 2020</td>\n",
              "      <td>15/11/2020</td>\n",
              "      <td>MUNICIPAL</td>\n",
              "      <td>SP</td>\n",
              "      <td>62111</td>\n",
              "      <td>BARRINHA</td>\n",
              "      <td>13</td>\n",
              "      <td>VEREADOR</td>\n",
              "      <td>250000663976</td>\n",
              "      <td>36456</td>\n",
              "      <td>SIDINEIA RODRIGUES DOS SANTOS</td>\n",
              "      <td>NEIA RODRIGUES</td>\n",
              "      <td>#NULO#</td>\n",
              "      <td>30830306811</td>\n",
              "      <td>PTC36BARRINHA@GMAIL.COM</td>\n",
              "      <td>12</td>\n",
              "      <td>APTO</td>\n",
              "      <td>2</td>\n",
              "      <td>DEFERIDO</td>\n",
              "      <td>PARTIDO ISOLADO</td>\n",
              "      <td>36</td>\n",
              "      <td>PTC</td>\n",
              "      <td>PARTIDO TRABALHISTA CRISTÃO</td>\n",
              "      <td>250000056608</td>\n",
              "      <td>PARTIDO ISOLADO</td>\n",
              "      <td>PTC</td>\n",
              "      <td>1</td>\n",
              "      <td>BRASILEIRA NATA</td>\n",
              "      <td>PR</td>\n",
              "      <td>-3</td>\n",
              "      <td>PORECATU</td>\n",
              "      <td>23/06/1982</td>\n",
              "      <td>38</td>\n",
              "      <td>296925030191</td>\n",
              "      <td>4</td>\n",
              "      <td>FEMININO</td>\n",
              "      <td>5</td>\n",
              "      <td>ENSINO MÉDIO INCOMPLETO</td>\n",
              "      <td>3</td>\n",
              "      <td>CASADO(A)</td>\n",
              "      <td>1</td>\n",
              "      <td>BRANCA</td>\n",
              "      <td>999</td>\n",
              "      <td>OUTROS</td>\n",
              "      <td>35643.03</td>\n",
              "      <td>5</td>\n",
              "      <td>SUPLENTE</td>\n",
              "      <td>N</td>\n",
              "      <td>S</td>\n",
              "      <td>-1</td>\n",
              "      <td>6002373820206260135</td>\n",
              "      <td>2</td>\n",
              "      <td>DEFERIDO</td>\n",
              "      <td>2</td>\n",
              "      <td>DEFERIDO</td>\n",
              "      <td>SIM</td>\n",
              "    </tr>\n",
              "    <tr>\n",
              "      <th>7</th>\n",
              "      <td>06/10/2021</td>\n",
              "      <td>12:21:13</td>\n",
              "      <td>2020</td>\n",
              "      <td>2</td>\n",
              "      <td>ELEIÇÃO ORDINÁRIA</td>\n",
              "      <td>1</td>\n",
              "      <td>426</td>\n",
              "      <td>Eleições Municipais 2020</td>\n",
              "      <td>15/11/2020</td>\n",
              "      <td>MUNICIPAL</td>\n",
              "      <td>SP</td>\n",
              "      <td>61310</td>\n",
              "      <td>AMERICANA</td>\n",
              "      <td>13</td>\n",
              "      <td>VEREADOR</td>\n",
              "      <td>250001102754</td>\n",
              "      <td>15020</td>\n",
              "      <td>LUIZ SERGIO FRANCO</td>\n",
              "      <td>SERGIO FRANCO</td>\n",
              "      <td>#NULO#</td>\n",
              "      <td>30566495872</td>\n",
              "      <td>LUIS.FRANCO328@TERRA.COM.BR</td>\n",
              "      <td>12</td>\n",
              "      <td>APTO</td>\n",
              "      <td>2</td>\n",
              "      <td>DEFERIDO</td>\n",
              "      <td>PARTIDO ISOLADO</td>\n",
              "      <td>15</td>\n",
              "      <td>MDB</td>\n",
              "      <td>MOVIMENTO DEMOCRÁTICO BRASILEIRO</td>\n",
              "      <td>250000133630</td>\n",
              "      <td>PARTIDO ISOLADO</td>\n",
              "      <td>MDB</td>\n",
              "      <td>1</td>\n",
              "      <td>BRASILEIRA NATA</td>\n",
              "      <td>SP</td>\n",
              "      <td>-3</td>\n",
              "      <td>PIRAJUÍ</td>\n",
              "      <td>25/08/1950</td>\n",
              "      <td>70</td>\n",
              "      <td>54513060159</td>\n",
              "      <td>2</td>\n",
              "      <td>MASCULINO</td>\n",
              "      <td>8</td>\n",
              "      <td>SUPERIOR COMPLETO</td>\n",
              "      <td>3</td>\n",
              "      <td>CASADO(A)</td>\n",
              "      <td>1</td>\n",
              "      <td>BRANCA</td>\n",
              "      <td>171</td>\n",
              "      <td>JORNALISTA E REDATOR</td>\n",
              "      <td>52004.52</td>\n",
              "      <td>5</td>\n",
              "      <td>SUPLENTE</td>\n",
              "      <td>N</td>\n",
              "      <td>S</td>\n",
              "      <td>-1</td>\n",
              "      <td>6004377320206260158</td>\n",
              "      <td>2</td>\n",
              "      <td>DEFERIDO</td>\n",
              "      <td>2</td>\n",
              "      <td>DEFERIDO</td>\n",
              "      <td>SIM</td>\n",
              "    </tr>\n",
              "    <tr>\n",
              "      <th>8</th>\n",
              "      <td>06/10/2021</td>\n",
              "      <td>12:21:13</td>\n",
              "      <td>2020</td>\n",
              "      <td>2</td>\n",
              "      <td>ELEIÇÃO ORDINÁRIA</td>\n",
              "      <td>1</td>\n",
              "      <td>426</td>\n",
              "      <td>Eleições Municipais 2020</td>\n",
              "      <td>15/11/2020</td>\n",
              "      <td>MUNICIPAL</td>\n",
              "      <td>SP</td>\n",
              "      <td>71072</td>\n",
              "      <td>SÃO PAULO</td>\n",
              "      <td>13</td>\n",
              "      <td>VEREADOR</td>\n",
              "      <td>250000658719</td>\n",
              "      <td>51115</td>\n",
              "      <td>AUGUSTO CESAR PINATTI MARSIGLIA</td>\n",
              "      <td>AUGUSTO MARSIGLIA</td>\n",
              "      <td>#NULO#</td>\n",
              "      <td>21975735862</td>\n",
              "      <td>JURIDICOPATRIOTASP@GMAIL.COM</td>\n",
              "      <td>12</td>\n",
              "      <td>APTO</td>\n",
              "      <td>2</td>\n",
              "      <td>DEFERIDO</td>\n",
              "      <td>PARTIDO ISOLADO</td>\n",
              "      <td>51</td>\n",
              "      <td>PATRIOTA</td>\n",
              "      <td>PATRIOTA</td>\n",
              "      <td>250000058731</td>\n",
              "      <td>PARTIDO ISOLADO</td>\n",
              "      <td>PATRIOTA</td>\n",
              "      <td>1</td>\n",
              "      <td>BRASILEIRA NATA</td>\n",
              "      <td>SP</td>\n",
              "      <td>-3</td>\n",
              "      <td>SÃO PAULO</td>\n",
              "      <td>03/04/1981</td>\n",
              "      <td>39</td>\n",
              "      <td>251826340116</td>\n",
              "      <td>2</td>\n",
              "      <td>MASCULINO</td>\n",
              "      <td>8</td>\n",
              "      <td>SUPERIOR COMPLETO</td>\n",
              "      <td>3</td>\n",
              "      <td>CASADO(A)</td>\n",
              "      <td>1</td>\n",
              "      <td>BRANCA</td>\n",
              "      <td>124</td>\n",
              "      <td>CONTADOR</td>\n",
              "      <td>3675197.12</td>\n",
              "      <td>5</td>\n",
              "      <td>SUPLENTE</td>\n",
              "      <td>N</td>\n",
              "      <td>N</td>\n",
              "      <td>-1</td>\n",
              "      <td>6003102420206260001</td>\n",
              "      <td>2</td>\n",
              "      <td>DEFERIDO</td>\n",
              "      <td>2</td>\n",
              "      <td>DEFERIDO</td>\n",
              "      <td>SIM</td>\n",
              "    </tr>\n",
              "    <tr>\n",
              "      <th>9</th>\n",
              "      <td>06/10/2021</td>\n",
              "      <td>12:21:13</td>\n",
              "      <td>2020</td>\n",
              "      <td>2</td>\n",
              "      <td>ELEIÇÃO ORDINÁRIA</td>\n",
              "      <td>1</td>\n",
              "      <td>426</td>\n",
              "      <td>Eleições Municipais 2020</td>\n",
              "      <td>15/11/2020</td>\n",
              "      <td>MUNICIPAL</td>\n",
              "      <td>SP</td>\n",
              "      <td>65811</td>\n",
              "      <td>ITUPEVA</td>\n",
              "      <td>13</td>\n",
              "      <td>VEREADOR</td>\n",
              "      <td>250001008565</td>\n",
              "      <td>55777</td>\n",
              "      <td>BRUNO PANZOLINI GONÇALES</td>\n",
              "      <td>BRUNO GONÇALES</td>\n",
              "      <td>#NULO#</td>\n",
              "      <td>16671748861</td>\n",
              "      <td>ELEICOES2020ITUPEVAMM@GMAIL.COM</td>\n",
              "      <td>12</td>\n",
              "      <td>APTO</td>\n",
              "      <td>2</td>\n",
              "      <td>DEFERIDO</td>\n",
              "      <td>PARTIDO ISOLADO</td>\n",
              "      <td>55</td>\n",
              "      <td>PSD</td>\n",
              "      <td>PARTIDO SOCIAL DEMOCRÁTICO</td>\n",
              "      <td>250000118633</td>\n",
              "      <td>PARTIDO ISOLADO</td>\n",
              "      <td>PSD</td>\n",
              "      <td>1</td>\n",
              "      <td>BRASILEIRA NATA</td>\n",
              "      <td>SP</td>\n",
              "      <td>-3</td>\n",
              "      <td>SANTO ANDRÉ</td>\n",
              "      <td>07/01/1978</td>\n",
              "      <td>42</td>\n",
              "      <td>262753930167</td>\n",
              "      <td>2</td>\n",
              "      <td>MASCULINO</td>\n",
              "      <td>8</td>\n",
              "      <td>SUPERIOR COMPLETO</td>\n",
              "      <td>3</td>\n",
              "      <td>CASADO(A)</td>\n",
              "      <td>1</td>\n",
              "      <td>BRANCA</td>\n",
              "      <td>101</td>\n",
              "      <td>ENGENHEIRO</td>\n",
              "      <td>73758.31</td>\n",
              "      <td>5</td>\n",
              "      <td>SUPLENTE</td>\n",
              "      <td>N</td>\n",
              "      <td>S</td>\n",
              "      <td>-1</td>\n",
              "      <td>6002972720206260065</td>\n",
              "      <td>2</td>\n",
              "      <td>DEFERIDO</td>\n",
              "      <td>2</td>\n",
              "      <td>DEFERIDO</td>\n",
              "      <td>SIM</td>\n",
              "    </tr>\n",
              "  </tbody>\n",
              "</table>\n",
              "</div>"
            ],
            "text/plain": [
              "   DT_GERACAO HH_GERACAO  ...  DS_SITUACAO_CANDIDATO_URNA  ST_CANDIDATO_INSERIDO_URNA\n",
              "0  06/10/2021   12:21:13  ...      INDEFERIDO COM RECURSO                         SIM\n",
              "1  06/10/2021   12:21:13  ...                    DEFERIDO                         SIM\n",
              "2  06/10/2021   12:21:13  ...                    DEFERIDO                         SIM\n",
              "3  06/10/2021   12:21:13  ...                    DEFERIDO                         SIM\n",
              "4  06/10/2021   12:21:13  ...                    DEFERIDO                         SIM\n",
              "5  06/10/2021   12:21:13  ...                    DEFERIDO                         SIM\n",
              "6  06/10/2021   12:21:13  ...                    DEFERIDO                         SIM\n",
              "7  06/10/2021   12:21:13  ...                    DEFERIDO                         SIM\n",
              "8  06/10/2021   12:21:13  ...                    DEFERIDO                         SIM\n",
              "9  06/10/2021   12:21:13  ...                    DEFERIDO                         SIM\n",
              "\n",
              "[10 rows x 63 columns]"
            ]
          },
          "metadata": {},
          "execution_count": 40
        }
      ]
    },
    {
      "cell_type": "code",
      "metadata": {
        "colab": {
          "base_uri": "https://localhost:8080/"
        },
        "id": "l0VBvvwoc-oP",
        "outputId": "17190150-2843-4d1c-ad9c-ccf701b5f0ac"
      },
      "source": [
        "list(base_bens.columns)"
      ],
      "execution_count": null,
      "outputs": [
        {
          "output_type": "execute_result",
          "data": {
            "text/plain": [
              "['DT_GERACAO',\n",
              " 'HH_GERACAO',\n",
              " 'ANO_ELEICAO',\n",
              " 'CD_TIPO_ELEICAO',\n",
              " 'NM_TIPO_ELEICAO',\n",
              " 'CD_ELEICAO',\n",
              " 'DS_ELEICAO',\n",
              " 'DT_ELEICAO',\n",
              " 'SG_UF',\n",
              " 'SG_UE',\n",
              " 'NM_UE',\n",
              " 'SQ_CANDIDATO',\n",
              " 'NR_ORDEM_CANDIDATO',\n",
              " 'CD_TIPO_BEM_CANDIDATO',\n",
              " 'DS_TIPO_BEM_CANDIDATO',\n",
              " 'DS_BEM_CANDIDATO',\n",
              " 'VR_BEM_CANDIDATO',\n",
              " 'DT_ULTIMA_ATUALIZACAO',\n",
              " 'HH_ULTIMA_ATUALIZACAO']"
            ]
          },
          "metadata": {},
          "execution_count": 41
        }
      ]
    },
    {
      "cell_type": "code",
      "metadata": {
        "id": "FmYZpGX4aLot"
      },
      "source": [
        "base_bens.head(10)"
      ],
      "execution_count": null,
      "outputs": []
    },
    {
      "cell_type": "code",
      "metadata": {
        "colab": {
          "base_uri": "https://localhost:8080/"
        },
        "id": "qA7fVAk5dAc9",
        "outputId": "720d45b4-1607-4e2a-ab09-7578a1cd64c4"
      },
      "source": [
        "list(base_result.columns)"
      ],
      "execution_count": null,
      "outputs": [
        {
          "output_type": "execute_result",
          "data": {
            "text/plain": [
              "['DT_GERACAO',\n",
              " 'HH_GERACAO',\n",
              " 'ANO_ELEICAO',\n",
              " 'CD_TIPO_ELEICAO',\n",
              " 'NM_TIPO_ELEICAO',\n",
              " 'NR_TURNO',\n",
              " 'CD_ELEICAO',\n",
              " 'DS_ELEICAO',\n",
              " 'DT_ELEICAO',\n",
              " 'TP_ABRANGENCIA',\n",
              " 'SG_UF',\n",
              " 'SG_UE',\n",
              " 'NM_UE',\n",
              " 'CD_MUNICIPIO',\n",
              " 'NM_MUNICIPIO',\n",
              " 'NR_ZONA',\n",
              " 'CD_CARGO',\n",
              " 'DS_CARGO',\n",
              " 'SQ_CANDIDATO',\n",
              " 'NR_CANDIDATO',\n",
              " 'NM_CANDIDATO',\n",
              " 'NM_URNA_CANDIDATO',\n",
              " 'NM_SOCIAL_CANDIDATO',\n",
              " 'CD_SITUACAO_CANDIDATURA',\n",
              " 'DS_SITUACAO_CANDIDATURA',\n",
              " 'CD_DETALHE_SITUACAO_CAND',\n",
              " 'DS_DETALHE_SITUACAO_CAND',\n",
              " 'TP_AGREMIACAO',\n",
              " 'NR_PARTIDO',\n",
              " 'SG_PARTIDO',\n",
              " 'NM_PARTIDO',\n",
              " 'SQ_COLIGACAO',\n",
              " 'NM_COLIGACAO',\n",
              " 'DS_COMPOSICAO_COLIGACAO',\n",
              " 'CD_SIT_TOT_TURNO',\n",
              " 'DS_SIT_TOT_TURNO',\n",
              " 'ST_VOTO_EM_TRANSITO',\n",
              " 'QT_VOTOS_NOMINAIS']"
            ]
          },
          "metadata": {},
          "execution_count": 43
        }
      ]
    },
    {
      "cell_type": "code",
      "metadata": {
        "id": "4rh-jeioaL4-"
      },
      "source": [
        "base_result.head(10)"
      ],
      "execution_count": null,
      "outputs": []
    },
    {
      "cell_type": "markdown",
      "metadata": {
        "id": "VmbJMcZLlB23"
      },
      "source": [
        "Selecionando variáveis da base de candidatos e cidade a ser analisada"
      ]
    },
    {
      "cell_type": "code",
      "metadata": {
        "id": "v338W2PalHur"
      },
      "source": [
        "candidatos = base_cand[[\"ANO_ELEICAO\",\"SG_UF\",\"NM_UE\",\"DS_CARGO\", \"SQ_CANDIDATO\", \"NM_URNA_CANDIDATO\", \"CD_SITUACAO_CANDIDATURA\",\n",
        "              \"SG_PARTIDO\",\"NR_IDADE_DATA_POSSE\", \"DS_GENERO\", \"DS_GRAU_INSTRUCAO\", \"DS_ESTADO_CIVIL\", \"DS_COR_RACA\",\n",
        "              \"DS_OCUPACAO\", \"VR_DESPESA_MAX_CAMPANHA\", \"ST_REELEICAO\", \"ST_DECLARAR_BENS\",\"ST_CANDIDATO_INSERIDO_URNA\"]]\n"
      ],
      "execution_count": null,
      "outputs": []
    },
    {
      "cell_type": "code",
      "metadata": {
        "id": "ARv_7XGfpMCX"
      },
      "source": [
        "candidatos = candidatos[(candidatos[\"NM_UE\"] == \"SÃO PAULO\") & (candidatos[\"DS_CARGO\"] == \"VEREADOR\")]\n"
      ],
      "execution_count": null,
      "outputs": []
    },
    {
      "cell_type": "markdown",
      "metadata": {
        "id": "sTSs0usSlILG"
      },
      "source": [
        "As bases de bens de candidatos apresentam cada bem declarado em uma linha. Precisamos agregar as inforamções por candidato.Agregando bens por candidato:"
      ]
    },
    {
      "cell_type": "code",
      "metadata": {
        "id": "KgZQjo_jlL5-"
      },
      "source": [
        "bens = base_bens[[\"SQ_CANDIDATO\" ,\"VR_BEM_CANDIDATO\"]]\n",
        "\n",
        "bens = bens.groupby([\"SQ_CANDIDATO\"]).sum()"
      ],
      "execution_count": null,
      "outputs": []
    },
    {
      "cell_type": "markdown",
      "metadata": {
        "id": "0nq2Zw5BpPOW"
      },
      "source": [
        "Os resultados são disponibilizados por seção eleitoral, precisamos agregar os resultados por candidato."
      ]
    },
    {
      "cell_type": "code",
      "metadata": {
        "id": "OWJ-kKF5pQhK"
      },
      "source": [
        "resultados = base_result[[\"SQ_CANDIDATO\",  \"DS_SIT_TOT_TURNO\",\"QT_VOTOS_NOMINAIS\"]]"
      ],
      "execution_count": null,
      "outputs": []
    },
    {
      "cell_type": "code",
      "metadata": {
        "id": "y6tcrJRCpU4d"
      },
      "source": [
        "resultados_unique = resultados.drop_duplicates(subset = \"SQ_CANDIDATO\")\n",
        "resultados_unique = resultados_unique[[\"SQ_CANDIDATO\",  \"DS_SIT_TOT_TURNO\"]]"
      ],
      "execution_count": null,
      "outputs": []
    },
    {
      "cell_type": "code",
      "metadata": {
        "id": "h0kn1nbvpXDu"
      },
      "source": [
        "votos = resultados[[\"SQ_CANDIDATO\",\"QT_VOTOS_NOMINAIS\"]]\n",
        "votos = resultados.groupby([\"SQ_CANDIDATO\"]).sum()"
      ],
      "execution_count": null,
      "outputs": []
    },
    {
      "cell_type": "markdown",
      "metadata": {
        "id": "MS31_r7LpZn4"
      },
      "source": [
        "Juntando todas as bases em uma só"
      ]
    },
    {
      "cell_type": "code",
      "metadata": {
        "id": "wUbtopdHpapA"
      },
      "source": [
        "juntando = candidatos.merge(bens, how = 'left', left_on = \"SQ_CANDIDATO\", right_on = \"SQ_CANDIDATO\")\n"
      ],
      "execution_count": null,
      "outputs": []
    },
    {
      "cell_type": "code",
      "metadata": {
        "id": "-t-y2fSrpcSS"
      },
      "source": [
        "juntando = juntando.merge(resultados_unique, how = 'left', left_on = \"SQ_CANDIDATO\", right_on = \"SQ_CANDIDATO\")\n"
      ],
      "execution_count": null,
      "outputs": []
    },
    {
      "cell_type": "code",
      "metadata": {
        "id": "vNU46peIpdnD"
      },
      "source": [
        "juntando = juntando.merge(votos, how = 'left', left_on = \"SQ_CANDIDATO\", right_on = \"SQ_CANDIDATO\")\n"
      ],
      "execution_count": null,
      "outputs": []
    },
    {
      "cell_type": "markdown",
      "metadata": {
        "id": "4mcerXvnpfru"
      },
      "source": [
        "Para criarmos o modelo, precisamos de uma variável resposta binária. Criando variável resposta binária - eleito (1) nao eleito (0)"
      ]
    },
    {
      "cell_type": "code",
      "metadata": {
        "id": "_PKNEm0Upju8"
      },
      "source": [
        "juntando[['eleito']] = np.where((juntando['DS_SIT_TOT_TURNO']=='ELEITO POR MÉDIA') | (juntando['DS_SIT_TOT_TURNO']=='ELEITO POR QP'), 1, 0)\n"
      ],
      "execution_count": null,
      "outputs": []
    },
    {
      "cell_type": "markdown",
      "metadata": {
        "id": "emvd7iN7plsg"
      },
      "source": [
        "Dropando linhas com NaN"
      ]
    },
    {
      "cell_type": "code",
      "metadata": {
        "id": "3GhQAe_wpoUk"
      },
      "source": [
        "juntando.dropna(subset = [\"VR_BEM_CANDIDATO\"], inplace=True)\n"
      ],
      "execution_count": null,
      "outputs": []
    },
    {
      "cell_type": "code",
      "metadata": {
        "colab": {
          "base_uri": "https://localhost:8080/",
          "height": 326
        },
        "id": "LPeJMgWKdUcS",
        "outputId": "4a1f3fdc-1f5f-4523-b2ed-401540a0b672"
      },
      "source": [
        "juntando.head()"
      ],
      "execution_count": null,
      "outputs": [
        {
          "output_type": "execute_result",
          "data": {
            "text/html": [
              "<div>\n",
              "<style scoped>\n",
              "    .dataframe tbody tr th:only-of-type {\n",
              "        vertical-align: middle;\n",
              "    }\n",
              "\n",
              "    .dataframe tbody tr th {\n",
              "        vertical-align: top;\n",
              "    }\n",
              "\n",
              "    .dataframe thead th {\n",
              "        text-align: right;\n",
              "    }\n",
              "</style>\n",
              "<table border=\"1\" class=\"dataframe\">\n",
              "  <thead>\n",
              "    <tr style=\"text-align: right;\">\n",
              "      <th></th>\n",
              "      <th>ANO_ELEICAO</th>\n",
              "      <th>SG_UF</th>\n",
              "      <th>NM_UE</th>\n",
              "      <th>DS_CARGO</th>\n",
              "      <th>SQ_CANDIDATO</th>\n",
              "      <th>NM_URNA_CANDIDATO</th>\n",
              "      <th>CD_SITUACAO_CANDIDATURA</th>\n",
              "      <th>SG_PARTIDO</th>\n",
              "      <th>NR_IDADE_DATA_POSSE</th>\n",
              "      <th>DS_GENERO</th>\n",
              "      <th>DS_GRAU_INSTRUCAO</th>\n",
              "      <th>DS_ESTADO_CIVIL</th>\n",
              "      <th>DS_COR_RACA</th>\n",
              "      <th>DS_OCUPACAO</th>\n",
              "      <th>VR_DESPESA_MAX_CAMPANHA</th>\n",
              "      <th>ST_REELEICAO</th>\n",
              "      <th>ST_DECLARAR_BENS</th>\n",
              "      <th>ST_CANDIDATO_INSERIDO_URNA</th>\n",
              "      <th>VR_BEM_CANDIDATO</th>\n",
              "      <th>DS_SIT_TOT_TURNO</th>\n",
              "      <th>QT_VOTOS_NOMINAIS</th>\n",
              "    </tr>\n",
              "  </thead>\n",
              "  <tbody>\n",
              "    <tr>\n",
              "      <th>1</th>\n",
              "      <td>2020</td>\n",
              "      <td>SP</td>\n",
              "      <td>SÃO PAULO</td>\n",
              "      <td>VEREADOR</td>\n",
              "      <td>250000885534</td>\n",
              "      <td>PEDAGOGO RONAN GOULART</td>\n",
              "      <td>12</td>\n",
              "      <td>SOLIDARIEDADE</td>\n",
              "      <td>49</td>\n",
              "      <td>MASCULINO</td>\n",
              "      <td>SUPERIOR COMPLETO</td>\n",
              "      <td>CASADO(A)</td>\n",
              "      <td>PARDA</td>\n",
              "      <td>PEDAGOGO</td>\n",
              "      <td>3675197.12</td>\n",
              "      <td>N</td>\n",
              "      <td>S</td>\n",
              "      <td>SIM</td>\n",
              "      <td>103000.0</td>\n",
              "      <td>SUPLENTE</td>\n",
              "      <td>208.0</td>\n",
              "    </tr>\n",
              "    <tr>\n",
              "      <th>2</th>\n",
              "      <td>2020</td>\n",
              "      <td>SP</td>\n",
              "      <td>SÃO PAULO</td>\n",
              "      <td>VEREADOR</td>\n",
              "      <td>250001041980</td>\n",
              "      <td>LUCIANE MATAHARI</td>\n",
              "      <td>12</td>\n",
              "      <td>PRTB</td>\n",
              "      <td>47</td>\n",
              "      <td>FEMININO</td>\n",
              "      <td>SUPERIOR COMPLETO</td>\n",
              "      <td>SOLTEIRO(A)</td>\n",
              "      <td>BRANCA</td>\n",
              "      <td>OUTROS</td>\n",
              "      <td>3675197.12</td>\n",
              "      <td>N</td>\n",
              "      <td>S</td>\n",
              "      <td>SIM</td>\n",
              "      <td>410545.0</td>\n",
              "      <td>NÃO ELEITO</td>\n",
              "      <td>96.0</td>\n",
              "    </tr>\n",
              "    <tr>\n",
              "      <th>3</th>\n",
              "      <td>2020</td>\n",
              "      <td>SP</td>\n",
              "      <td>SÃO PAULO</td>\n",
              "      <td>VEREADOR</td>\n",
              "      <td>250001088459</td>\n",
              "      <td>VERA TOMAZ DE LIMA</td>\n",
              "      <td>12</td>\n",
              "      <td>MDB</td>\n",
              "      <td>67</td>\n",
              "      <td>FEMININO</td>\n",
              "      <td>SUPERIOR COMPLETO</td>\n",
              "      <td>SOLTEIRO(A)</td>\n",
              "      <td>BRANCA</td>\n",
              "      <td>OUTROS</td>\n",
              "      <td>3675197.12</td>\n",
              "      <td>N</td>\n",
              "      <td>S</td>\n",
              "      <td>SIM</td>\n",
              "      <td>467368.0</td>\n",
              "      <td>SUPLENTE</td>\n",
              "      <td>483.0</td>\n",
              "    </tr>\n",
              "    <tr>\n",
              "      <th>4</th>\n",
              "      <td>2020</td>\n",
              "      <td>SP</td>\n",
              "      <td>SÃO PAULO</td>\n",
              "      <td>VEREADOR</td>\n",
              "      <td>250001129678</td>\n",
              "      <td>DRA JHESICA BACCARI</td>\n",
              "      <td>12</td>\n",
              "      <td>DC</td>\n",
              "      <td>35</td>\n",
              "      <td>FEMININO</td>\n",
              "      <td>SUPERIOR COMPLETO</td>\n",
              "      <td>CASADO(A)</td>\n",
              "      <td>BRANCA</td>\n",
              "      <td>ADVOGADO</td>\n",
              "      <td>3675197.12</td>\n",
              "      <td>N</td>\n",
              "      <td>S</td>\n",
              "      <td>SIM</td>\n",
              "      <td>558000.0</td>\n",
              "      <td>NaN</td>\n",
              "      <td>NaN</td>\n",
              "    </tr>\n",
              "    <tr>\n",
              "      <th>5</th>\n",
              "      <td>2020</td>\n",
              "      <td>SP</td>\n",
              "      <td>SÃO PAULO</td>\n",
              "      <td>VEREADOR</td>\n",
              "      <td>250001159207</td>\n",
              "      <td>ADRIANA CICERA</td>\n",
              "      <td>12</td>\n",
              "      <td>PROS</td>\n",
              "      <td>43</td>\n",
              "      <td>FEMININO</td>\n",
              "      <td>ENSINO FUNDAMENTAL COMPLETO</td>\n",
              "      <td>CASADO(A)</td>\n",
              "      <td>PARDA</td>\n",
              "      <td>FAXINEIRO</td>\n",
              "      <td>3675197.12</td>\n",
              "      <td>N</td>\n",
              "      <td>S</td>\n",
              "      <td>SIM</td>\n",
              "      <td>146000.0</td>\n",
              "      <td>NÃO ELEITO</td>\n",
              "      <td>140.0</td>\n",
              "    </tr>\n",
              "  </tbody>\n",
              "</table>\n",
              "</div>"
            ],
            "text/plain": [
              "   ANO_ELEICAO SG_UF  ... DS_SIT_TOT_TURNO QT_VOTOS_NOMINAIS\n",
              "1         2020    SP  ...         SUPLENTE             208.0\n",
              "2         2020    SP  ...       NÃO ELEITO              96.0\n",
              "3         2020    SP  ...         SUPLENTE             483.0\n",
              "4         2020    SP  ...              NaN               NaN\n",
              "5         2020    SP  ...       NÃO ELEITO             140.0\n",
              "\n",
              "[5 rows x 21 columns]"
            ]
          },
          "metadata": {},
          "execution_count": 55
        }
      ]
    },
    {
      "cell_type": "markdown",
      "metadata": {
        "id": "CYHkcRnnpp1_"
      },
      "source": [
        "Criando datasets para modelo - variáveis explicativas e variáveis respostas"
      ]
    },
    {
      "cell_type": "code",
      "metadata": {
        "id": "352gLHQspuSj"
      },
      "source": [
        "var_resposta = juntando[['eleito']]\n",
        "\n",
        "var_explicativas = juntando[['SG_PARTIDO','NR_IDADE_DATA_POSSE','DS_GENERO','DS_GRAU_INSTRUCAO','DS_ESTADO_CIVIL','DS_COR_RACA','ST_REELEICAO','VR_BEM_CANDIDATO']]\n"
      ],
      "execution_count": null,
      "outputs": []
    },
    {
      "cell_type": "code",
      "metadata": {
        "id": "iaeR3uOxdeyF"
      },
      "source": [
        "var_explicativas.head()"
      ],
      "execution_count": null,
      "outputs": []
    },
    {
      "cell_type": "code",
      "metadata": {
        "id": "a0rtek7yddCc"
      },
      "source": [
        "var_resposta.head()"
      ],
      "execution_count": null,
      "outputs": []
    },
    {
      "cell_type": "markdown",
      "metadata": {
        "id": "nOXD644rpxH4"
      },
      "source": [
        "Temos diversas variáveis categóricas. Precisamos transformar estas variáveis em numéricas. A variável númerica que assumo valor 1 para uma categoria e 0 para outra é chamada de dummy. Por exemplo - podemos ter uma dummy para se o candidato está tentando a reeleição que vai assumir o valor 1 quano ele estiver disputando a reeleição e 0 quando isso não ocorrer. Gerando Dummies:"
      ]
    },
    {
      "cell_type": "code",
      "metadata": {
        "id": "J0Kcae1FpyPG"
      },
      "source": [
        "var_explicativas = pd.get_dummies(var_explicativas)\n"
      ],
      "execution_count": null,
      "outputs": []
    },
    {
      "cell_type": "code",
      "metadata": {
        "id": "vFEGRbxFdktr"
      },
      "source": [
        "var_explicativas.head()"
      ],
      "execution_count": null,
      "outputs": []
    },
    {
      "cell_type": "markdown",
      "metadata": {
        "id": "h_wZS5Dhpzvd"
      },
      "source": [
        "Criando o modelo a partir da nossa base de treinamento"
      ]
    },
    {
      "cell_type": "code",
      "metadata": {
        "id": "iGv984TTp3WN"
      },
      "source": [
        "from sklearn.linear_model import LogisticRegression\n",
        "\n",
        "logisticRegr = LogisticRegression()\n",
        "\n",
        "model = logisticRegr.fit(var_explicativas, var_resposta.values.ravel())\n"
      ],
      "execution_count": null,
      "outputs": []
    },
    {
      "cell_type": "markdown",
      "metadata": {
        "id": "HpFKzdKep3uO"
      },
      "source": [
        "Criando as previsões a partir do modelo:"
      ]
    },
    {
      "cell_type": "code",
      "metadata": {
        "id": "AoKsOap1p8rN"
      },
      "source": [
        "predictions = logisticRegr.predict(var_explicativas)\n",
        "predictions_prob = logisticRegr.predict_proba(var_explicativas)\n",
        "\n",
        "\n",
        "predictions = pd.DataFrame(predictions, columns=['predito'])\n",
        "\n",
        "predictions_prob = pd.DataFrame(predictions_prob, columns=[\"Prob_0\", \"Prob_1\"])\n"
      ],
      "execution_count": null,
      "outputs": []
    },
    {
      "cell_type": "code",
      "metadata": {
        "id": "VyJ6kXq6d0jO"
      },
      "source": [
        "predictions_prob.head()"
      ],
      "execution_count": null,
      "outputs": []
    },
    {
      "cell_type": "code",
      "metadata": {
        "id": "q_v4FP0pdzCq"
      },
      "source": [
        "predictions.head()"
      ],
      "execution_count": null,
      "outputs": []
    },
    {
      "cell_type": "markdown",
      "metadata": {
        "id": "EfLH7EJKp9Ka"
      },
      "source": [
        "Exportando resultados para analise - exercício de casa"
      ]
    },
    {
      "cell_type": "code",
      "metadata": {
        "id": "XEvUNpwhp-um"
      },
      "source": [
        "analise = pd.concat([juntando.reset_index(drop=True), predictions_prob], axis=1)\n",
        "\n",
        "analise.to_csv(\"analisa_sp.csv\", sep=';')\n"
      ],
      "execution_count": null,
      "outputs": []
    },
    {
      "cell_type": "code",
      "metadata": {
        "id": "qEaAKSmCd6B-"
      },
      "source": [
        "analise.head()"
      ],
      "execution_count": null,
      "outputs": []
    }
  ]
}