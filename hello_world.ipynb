{
  "nbformat": 4,
  "nbformat_minor": 0,
  "metadata": {
    "colab": {
      "name": "hello-world.ipynb",
      "provenance": [],
      "authorship_tag": "ABX9TyMwo4gJsYx7v2fdH3vw7M0V",
      "include_colab_link": true
    },
    "kernelspec": {
      "name": "python3",
      "display_name": "Python 3"
    },
    "language_info": {
      "name": "python"
    }
  },
  "cells": [
    {
      "cell_type": "markdown",
      "metadata": {
        "id": "view-in-github",
        "colab_type": "text"
      },
      "source": [
        "<a href=\"https://colab.research.google.com/github/meyrele/Master-Jornalismo-de-Dados/blob/main/hello_world.ipynb\" target=\"_parent\"><img src=\"https://colab.research.google.com/assets/colab-badge.svg\" alt=\"Open In Colab\"/></a>"
      ]
    },
    {
      "cell_type": "code",
      "metadata": {
        "colab": {
          "base_uri": "https://localhost:8080/"
        },
        "id": "iXBLSN3jYwN1",
        "outputId": "a811b47c-f75f-4db8-e244-b6159bf20f8d"
      },
      "source": [
        "print(\"Olá, mundo!\")\n"
      ],
      "execution_count": null,
      "outputs": [
        {
          "output_type": "stream",
          "text": [
            "Olá, mundo!\n"
          ],
          "name": "stdout"
        }
      ]
    },
    {
      "cell_type": "code",
      "metadata": {
        "colab": {
          "base_uri": "https://localhost:8080/"
        },
        "id": "40HJwb6FRfwk",
        "outputId": "0ed1bf20-ab8e-4dee-e387-d7475aa25c6b"
      },
      "source": [
        "print(\"Estou apendendo Python!\")"
      ],
      "execution_count": null,
      "outputs": [
        {
          "output_type": "stream",
          "text": [
            "Estou apendendo Python!\n"
          ],
          "name": "stdout"
        }
      ]
    },
    {
      "cell_type": "code",
      "metadata": {
        "colab": {
          "base_uri": "https://localhost:8080/"
        },
        "id": "guxQIEU3SMgu",
        "outputId": "9de4c1e0-6fcd-4bb4-ce86-bb416c3d16e6"
      },
      "source": [
        "nome = input(\"Qual o seu nome? \") # Isso é um comentário\n",
        "print(\"Olá, \" + nome)"
      ],
      "execution_count": null,
      "outputs": [
        {
          "output_type": "stream",
          "text": [
            "Qual o seu nome? Meyrele\n",
            "Olá, Meyrele\n"
          ],
          "name": "stdout"
        }
      ]
    },
    {
      "cell_type": "markdown",
      "metadata": {
        "id": "_ZS3DwYeRmrr"
      },
      "source": [
        "O código acima mostra um texto na tela!"
      ]
    }
  ]
}