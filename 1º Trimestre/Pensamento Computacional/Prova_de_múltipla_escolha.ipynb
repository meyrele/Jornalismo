{
  "nbformat": 4,
  "nbformat_minor": 0,
  "metadata": {
    "colab": {
      "name": "Prova de múltipla escolha.ipynb",
      "provenance": [],
      "authorship_tag": "ABX9TyNLGSzEYSsseGei0anvedqu",
      "include_colab_link": true
    },
    "kernelspec": {
      "name": "python3",
      "display_name": "Python 3"
    },
    "language_info": {
      "name": "python"
    }
  },
  "cells": [
    {
      "cell_type": "markdown",
      "metadata": {
        "id": "view-in-github",
        "colab_type": "text"
      },
      "source": [
        "<a href=\"https://colab.research.google.com/github/meyrele/Master-Jornalismo-de-Dados/blob/main/Prova_de_m%C3%BAltipla_escolha.ipynb\" target=\"_parent\"><img src=\"https://colab.research.google.com/assets/colab-badge.svg\" alt=\"Open In Colab\"/></a>"
      ]
    },
    {
      "cell_type": "markdown",
      "metadata": {
        "id": "VF_63fFzpBk5"
      },
      "source": [
        "**Exercício \"Prova de múltipla escolha\"**\n",
        "Elaborar 5 perguntas sobre algum tema com 4 possíveis respostas (múltipla escolha). Crie um programa que, para cada pergunta:\n",
        "- Exibe a pergunta\n",
        "- Exibe as opções\n",
        "- Pergunta qual a resposta correta\n",
        "- Ao final, exibe a pontuação (0 a 5)"
      ]
    },
    {
      "cell_type": "code",
      "metadata": {
        "colab": {
          "base_uri": "https://localhost:8080/"
        },
        "id": "jeUvD9bDouXR",
        "outputId": "8554b992-aba9-48a6-8f7b-41fdd6bb4d5c"
      },
      "source": [
        "soma = 0\n",
        "print('Teste seus conhecimentos sobre a saga de filmes \"Star Wars\"!')\n",
        "print('1) Qual o único ator que esteve em todos os filmes da saga até agora?') \n",
        "print('a - Carrie Fisher (Princesa Leia)')\n",
        "print('b - Mark Hamill (Luke Skywalker)')\n",
        "print('c - Anthony Daniels (C-3PO)')\n",
        "print('d - Warwic Davis (wookie)')\n",
        "resp1 = input('Digite sua resposta: ')\n",
        "if resp1 == \"c\":\n",
        "  print(\"Resposta correta!\")\n",
        "  soma = soma + 1\n",
        "else:\n",
        "  print('Você errou! A resposta correta é letra c, Anthony Daniels (C-3PO).')\n",
        "\n",
        "print('2) Qual Stormtrooper não consegue cumprir sua missão em Star Wars: O Despertar da Força?') \n",
        "print('a - FN-2705')\n",
        "print('b - FN-2187')\n",
        "print('c - FN-1205')\n",
        "print('d - FN-1312')\n",
        "resp1 = input('Digite sua resposta: ')\n",
        "if resp1 == \"b\":\n",
        "  print(\"Resposta correta!\")\n",
        "  soma = soma + 1\n",
        "else:\n",
        "  print('Você errou! A resposta correta é letra b, FN-2187.')\n",
        "\n",
        "print('3) De acordo com o Mestre Yoda, quantos Sith sempre estão por aí?') \n",
        "print('a - 4')\n",
        "print('b - 3')\n",
        "print('c - 1')\n",
        "print('d - 2')\n",
        "resp1 = input('Digite sua resposta: ')\n",
        "if resp1 == \"d\":\n",
        "  print(\"Resposta correta!\")\n",
        "  soma = soma + 1\n",
        "else:\n",
        "  print('Você errou! A resposta correta é letra d, dois Siths.')\n",
        "\n",
        "print('4) O que aconteceu com Anakin Skywalker durante sua batalha com o Conde Dookan?') \n",
        "print('a - Ele perdeu a perna esquerda')\n",
        "print('b - Ele perdeu o braço direito')\n",
        "print('c - Ele perdeu a perna direita')\n",
        "print('d - Ele perdeu o braço esquerdo')\n",
        "resp1 = input('Digite sua resposta: ')\n",
        "if resp1 == \"b\":\n",
        "  print(\"Resposta correta!\")\n",
        "  soma = soma + 1\n",
        "else:\n",
        "  print('Você errou! A resposta correta é letra b, ele perdeu o braço direito.')\n",
        "\n",
        "print('5) Quem matou Jabba?') \n",
        "print('a - Han Solo')\n",
        "print('b - C-3PO')\n",
        "print('c - Luke Skywalker')\n",
        "print('d - Princesa Leia')\n",
        "resp1 = input('Digite sua resposta: ')\n",
        "if resp1 == \"d\":\n",
        "  print(\"Resposta correta!\")\n",
        "  soma = soma + 1\n",
        "else:\n",
        "  print('Você errou! A resposta correta é letra d, Princesa Leia.')\n",
        "\n",
        "print(f'Você acertou {soma} de 5 questões' )\n",
        "\n"
      ],
      "execution_count": 16,
      "outputs": [
        {
          "output_type": "stream",
          "name": "stdout",
          "text": [
            "Teste seus conhecimentos sobre a saga de filmes \"Star Wars\"!\n",
            "1) Qual o único ator que esteve em todos os filmes da saga até agora?\n",
            "a - Carrie Fisher (Princesa Leia)\n",
            "b - Mark Hamill (Luke Skywalker)\n",
            "c - Anthony Daniels (C-3PO)\n",
            "d - Warwic Davis (wookie)\n",
            "Digite sua resposta: a\n",
            "Você errou! A resposta correta é letra c, Anthony Daniels (C-3PO).\n",
            "2) Qual Stormtrooper não consegue cumprir sua missão em Star Wars: O Despertar da Força?\n",
            "a - FN-2705\n",
            "b - FN-2187\n",
            "c - FN-1205\n",
            "d - FN-1312\n",
            "Digite sua resposta: b\n",
            "Resposta correta!\n",
            "3) De acordo com o Mestre Yoda, quantos Sith sempre estão por aí?\n",
            "a - 4\n",
            "b - 3\n",
            "c - 1\n",
            "d - 2\n",
            "Digite sua resposta: d\n",
            "Resposta correta!\n",
            "4) O que aconteceu com Anakin Skywalker durante sua batalha com o Conde Dookan?\n",
            "a - Ele perdeu a perna esquerda\n",
            "b - Ele perdeu o braço direito\n",
            "c - Ele perdeu a perna direita\n",
            "d - Ele perdeu o braço esquerdo\n",
            "Digite sua resposta: a\n",
            "Você errou! A resposta correta é letra b, ele perdeu o braço direito.\n",
            "5) Quem matou Jabba?\n",
            "a - Han Solo\n",
            "b - C-3PO\n",
            "c - Luke Skywalker\n",
            "d - Princesa Leia\n",
            "Digite sua resposta: d\n",
            "Resposta correta!\n",
            "Você acertou 3 de 5 questões\n"
          ]
        }
      ]
    },
    {
      "cell_type": "code",
      "metadata": {
        "id": "A_MojugUp7wo"
      },
      "source": [
        ""
      ],
      "execution_count": null,
      "outputs": []
    }
  ]
}