{
  "nbformat": 4,
  "nbformat_minor": 0,
  "metadata": {
    "colab": {
      "name": "hello-world.ipynb",
      "provenance": [],
      "authorship_tag": "ABX9TyNBgQR2sYpumM9LB8RKaJIU",
      "include_colab_link": true
    },
    "kernelspec": {
      "name": "python3",
      "display_name": "Python 3"
    },
    "language_info": {
      "name": "python"
    }
  },
  "cells": [
    {
      "cell_type": "markdown",
      "metadata": {
        "id": "view-in-github",
        "colab_type": "text"
      },
      "source": [
        "<a href=\"https://colab.research.google.com/github/meyrele/Master-Jornalismo-de-Dados/blob/main/hello_world.ipynb\" target=\"_parent\"><img src=\"https://colab.research.google.com/assets/colab-badge.svg\" alt=\"Open In Colab\"/></a>"
      ]
    },
    {
      "cell_type": "code",
      "metadata": {
        "colab": {
          "base_uri": "https://localhost:8080/"
        },
        "id": "iXBLSN3jYwN1",
        "outputId": "7746ec49-22b2-4fcd-b219-2b82ed9a5ec8"
      },
      "source": [
        "print(\"Olá, mundo!\")\n"
      ],
      "execution_count": 1,
      "outputs": [
        {
          "output_type": "stream",
          "name": "stdout",
          "text": [
            "Olá, mundo!\n"
          ]
        }
      ]
    },
    {
      "cell_type": "code",
      "metadata": {
        "colab": {
          "base_uri": "https://localhost:8080/"
        },
        "id": "40HJwb6FRfwk",
        "outputId": "70dd568d-43e0-4489-b39e-0c30db6a7f4a"
      },
      "source": [
        "print(\"Estou aprendendo Python!\")"
      ],
      "execution_count": 2,
      "outputs": [
        {
          "output_type": "stream",
          "name": "stdout",
          "text": [
            "Estou aprendendo Python!\n"
          ]
        }
      ]
    },
    {
      "cell_type": "code",
      "metadata": {
        "colab": {
          "base_uri": "https://localhost:8080/"
        },
        "id": "guxQIEU3SMgu",
        "outputId": "66545e4e-6440-4bae-f79d-dca894a9cf6c"
      },
      "source": [
        "nome = input(\"Qual o seu nome? \") # Isso é um comentário\n",
        "print(\"Olá, \" + nome)"
      ],
      "execution_count": 4,
      "outputs": [
        {
          "output_type": "stream",
          "name": "stdout",
          "text": [
            "Qual o seu nome? Meyrele Torres\n",
            "Olá, Meyrele Torres\n"
          ]
        }
      ]
    },
    {
      "cell_type": "markdown",
      "metadata": {
        "id": "_ZS3DwYeRmrr"
      },
      "source": [
        "O código acima mostra um texto na tela!"
      ]
    }
  ]
}